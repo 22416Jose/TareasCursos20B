{
 "cells": [
  {
   "cell_type": "markdown",
   "id": "f429b0b6-a941-4903-a51f-435c21644d93",
   "metadata": {},
   "source": [
    "# Taller 1\n",
    "## Jorge Andrés Silva 2160411\n",
    "## José Pablo Sosa Saavedra - 2241670\n"
   ]
  },
  {
   "cell_type": "markdown",
   "id": "4aafc705-4fd7-49da-83ea-6e494ccc0007",
   "metadata": {},
   "source": [
    "## Sección 1.1.6 problema 3:\n",
    "\n",
    "\n",
    "Los vértices de un triángulo $ABC$ tienen como vectores posición $\\mathbf{a}$, $\\mathbf{b}$ y $\\mathbf{c}$, respectivamente, y relativos a un origen común $O$. Demuestre que el vector posición $\\mathbf{g}$ del centroide $G$ del triángulo viene dado por\n",
    "\n",
    "$\n",
    "\\mathbf{g} = \\frac{1}{3} (\\mathbf{a} + \\mathbf{b} + \\mathbf{c})\n",
    "$"
   ]
  },
  {
   "cell_type": "markdown",
   "id": "1ed1e1b0-d9d7-4c9c-91e8-18055b053e60",
   "metadata": {},
   "source": [
    "## Desarrollo\n",
    "\n",
    "El centroide $G$ es la intersección de las medianas del triángulo.  \n",
    "Si $M_{BC} = \\frac{\\mathbf{b} + \\mathbf{c}}{2}$ es el punto medio de $BC$, la mediana desde $A$ es el segmento que une $A$ con $M_{BC}$.  \n",
    "\n",
    "Pasos:\n",
    "1. Definir $\\mathbf{a},\\mathbf{b},\\mathbf{c} \\in \\mathbb{R}^3$ de forma simbólica.\n",
    "2. Calcular los puntos medios $M_{BC}$ y $M_{AC}$.\n",
    "3. Parametrizar dos medianas y resolver su intersección.\n",
    "4. Mostrar que la solución $\\mathbf{G}$ satisface  \n",
    "   $\n",
    "   \\mathbf{g} = \\frac{1}{3} (\\mathbf{a} + \\mathbf{b} + \\mathbf{c})\n",
    "   $\n",
    "   y que $t = \\frac{2}{3}$.\n"
   ]
  },
  {
   "cell_type": "code",
   "execution_count": 1,
   "id": "8ae4ede5-39c0-45fa-929e-388b36addba3",
   "metadata": {},
   "outputs": [
    {
     "data": {
      "image/png": "[encoded data removed]",
      "text/latex": [
       "$\\displaystyle \\left[ \\left\\{ s : \\frac{2}{3}, \\  t : \\frac{2}{3}\\right\\}\\right]$"
      ],
      "text/plain": [
       "[{s: 2/3, t: 2/3}]"
      ]
     },
     "execution_count": 1,
     "metadata": {},
     "output_type": "execute_result"
    }
   ],
   "source": [
    "import sympy as sp\n",
    "sp.init_printing()\n",
    "\n",
    "# Definición de coordenadas simbólicas\n",
    "ax, ay, az = sp.symbols('ax ay az', real=True)\n",
    "bx, by, bz = sp.symbols('bx by bz', real=True)\n",
    "cx, cy, cz = sp.symbols('cx cy cz', real=True)\n",
    "\n",
    "# Vectores posición\n",
    "a = sp.Matrix([ax, ay, az])\n",
    "b = sp.Matrix([bx, by, bz])\n",
    "c = sp.Matrix([cx, cy, cz])\n",
    "\n",
    "# Puntos medios\n",
    "M_BC = (b + c) / 2\n",
    "M_AC = (a + c) / 2\n",
    "\n",
    "# Parámetros para medianas\n",
    "t, s = sp.symbols('t s', real=True)\n",
    "\n",
    "# Mediana desde A y desde B\n",
    "L1 = a + t * (M_BC - a)\n",
    "L2 = b + s * (M_AC - b)\n",
    "\n",
    "# Resolver intersección\n",
    "sol = sp.solve(list(L1 - L2), (t, s), dict=True)\n",
    "sol\n"
   ]
  },
  {
   "cell_type": "markdown",
   "id": "abe4fcc5-512c-4bb7-8a95-a99f4d99a9a2",
   "metadata": {},
   "source": [
    "\n",
    "Se toma la solución obtenida y se sustituye en una de las parametrizaciones para obtener $G$.\n"
   ]
  },
  {
   "cell_type": "code",
   "execution_count": 2,
   "id": "0177b34e-42bc-4feb-87da-33c3aa847074",
   "metadata": {},
   "outputs": [
    {
     "data": {
      "text/latex": [
       "$\\displaystyle \\left( \\frac{2}{3}, \\  \\left[\\begin{matrix}\\frac{ax}{3} + \\frac{bx}{3} + \\frac{cx}{3}\\\\\\frac{ay}{3} + \\frac{by}{3} + \\frac{cy}{3}\\\\\\frac{az}{3} + \\frac{bz}{3} + \\frac{cz}{3}\\end{matrix}\\right], \\  \\left[\\begin{matrix}\\frac{ax}{3} + \\frac{bx}{3} + \\frac{cx}{3}\\\\\\frac{ay}{3} + \\frac{by}{3} + \\frac{cy}{3}\\\\\\frac{az}{3} + \\frac{bz}{3} + \\frac{cz}{3}\\end{matrix}\\right], \\  \\left[\\begin{matrix}0\\\\0\\\\0\\end{matrix}\\right]\\right)$"
      ],
      "text/plain": [
       "⎛     ⎡ax   bx   cx⎤  ⎡ax   bx   cx⎤     ⎞\n",
       "⎜     ⎢── + ── + ──⎥  ⎢── + ── + ──⎥     ⎟\n",
       "⎜     ⎢3    3    3 ⎥  ⎢3    3    3 ⎥     ⎟\n",
       "⎜     ⎢            ⎥  ⎢            ⎥  ⎡0⎤⎟\n",
       "⎜     ⎢ay   by   cy⎥  ⎢ay   by   cy⎥  ⎢ ⎥⎟\n",
       "⎜2/3, ⎢── + ── + ──⎥, ⎢── + ── + ──⎥, ⎢0⎥⎟\n",
       "⎜     ⎢3    3    3 ⎥  ⎢3    3    3 ⎥  ⎢ ⎥⎟\n",
       "⎜     ⎢            ⎥  ⎢            ⎥  ⎣0⎦⎟\n",
       "⎜     ⎢az   bz   cz⎥  ⎢az   bz   cz⎥     ⎟\n",
       "⎜     ⎢── + ── + ──⎥  ⎢── + ── + ──⎥     ⎟\n",
       "⎝     ⎣3    3    3 ⎦  ⎣3    3    3 ⎦     ⎠"
      ]
     },
     "execution_count": 2,
     "metadata": {},
     "output_type": "execute_result"
    }
   ],
   "source": [
    "t_val = sp.simplify(sol[0][t])\n",
    "G = sp.simplify(L1.subs(t, t_val))\n",
    "\n",
    "# Expresión esperada\n",
    "G_expected = sp.simplify((a + b + c) / 3)\n",
    "\n",
    "# Verificación\n",
    "eq_g = sp.simplify(G - G_expected)\n",
    "t_val, G, G_expected, eq_g\n"
   ]
  },
  {
   "cell_type": "markdown",
   "id": "1807d8df-6701-4bf8-9dfc-6f7b2188f4b4",
   "metadata": {},
   "source": [
    "\n",
    "El resultado obtenido confirma que\n",
    "\n",
    "$\n",
    "\\mathbf{g} = \\frac{1}{3} (\\mathbf{a} + \\mathbf{b} + \\mathbf{c})\n",
    "$\n",
    "\n",
    "y que $t = \\frac{2}{3}$, lo que significa que $G$ divide cada mediana en razón $2:1$ desde el vértice.\n"
   ]
  },
  {
   "cell_type": "code",
   "execution_count": 3,
   "id": "890e62e0-7929-4a15-8f4f-a1377b944e2b",
   "metadata": {},
   "outputs": [
    {
     "data": {
      "text/latex": [
       "$\\displaystyle \\left( \\left[\\begin{matrix}0\\\\-3\\\\1\\end{matrix}\\right], \\  \\left[\\begin{matrix}5\\\\-5\\\\-4\\end{matrix}\\right], \\  \\left[\\begin{matrix}3\\\\-4\\\\0\\end{matrix}\\right], \\  \\left[\\begin{matrix}\\frac{8}{3}\\\\-4\\\\-1\\end{matrix}\\right], \\  \\left[\\begin{matrix}\\frac{8}{3}\\\\-4\\\\-1\\end{matrix}\\right], \\  \\left[\\begin{matrix}0\\\\0\\\\0\\end{matrix}\\right]\\right)$"
      ],
      "text/plain": [
       "⎛⎡0 ⎤  ⎡5 ⎤  ⎡3 ⎤  ⎡8/3⎤  ⎡8/3⎤  ⎡0⎤⎞\n",
       "⎜⎢  ⎥  ⎢  ⎥  ⎢  ⎥  ⎢   ⎥  ⎢   ⎥  ⎢ ⎥⎟\n",
       "⎜⎢-3⎥, ⎢-5⎥, ⎢-4⎥, ⎢-4 ⎥, ⎢-4 ⎥, ⎢0⎥⎟\n",
       "⎜⎢  ⎥  ⎢  ⎥  ⎢  ⎥  ⎢   ⎥  ⎢   ⎥  ⎢ ⎥⎟\n",
       "⎝⎣1 ⎦  ⎣-4⎦  ⎣0 ⎦  ⎣-1 ⎦  ⎣-1 ⎦  ⎣0⎦⎠"
      ]
     },
     "execution_count": 3,
     "metadata": {},
     "output_type": "execute_result"
    }
   ],
   "source": [
    "# Comprobación numérica\n",
    "import random\n",
    "random.seed(7)\n",
    "\n",
    "a_num = sp.Matrix([random.randint(-5, 5) for _ in range(3)])\n",
    "b_num = sp.Matrix([random.randint(-5, 5) for _ in range(3)])\n",
    "c_num = sp.Matrix([random.randint(-5, 5) for _ in range(3)])\n",
    "\n",
    "M_BC_num = (b_num + c_num) / 2\n",
    "t_num = sp.Rational(2, 3)\n",
    "\n",
    "G_formula = (a_num + b_num + c_num) / 3\n",
    "G_median = a_num + t_num * (M_BC_num - a_num)\n",
    "\n",
    "a_num, b_num, c_num, G_formula, G_median, sp.simplify(G_formula - G_median)\n"
   ]
  },
  {
   "cell_type": "code",
   "execution_count": 4,
   "id": "e00384c9-5289-4244-9997-2a13502d5aae",
   "metadata": {},
   "outputs": [
    {
     "data": {
      "image/png": "[encoded data removed]",
      "text/plain": [
       "<Figure size 432x432 with 1 Axes>"
      ]
     },
     "metadata": {
      "needs_background": "light"
     },
     "output_type": "display_data"
    }
   ],
   "source": [
    "# --- Triángulo ABC, medianas y centroide G (ejemplo reproducible) ---\n",
    "import matplotlib.pyplot as plt\n",
    "\n",
    "# Se definen coordenadas de ejemplo para los vértices\n",
    "A = (0.0, 0.0)\n",
    "B = (4.0, 1.0)\n",
    "C = (1.0, 3.0)\n",
    "\n",
    "# Se calculan puntos medios necesarios para las medianas\n",
    "M_BC = ((B[0] + C[0]) / 2.0, (B[1] + C[1]) / 2.0)  # Punto medio de BC\n",
    "M_AC = ((A[0] + C[0]) / 2.0, (A[1] + C[1]) / 2.0)  # Punto medio de AC\n",
    "\n",
    "# Se calcula el centroide por la fórmula g = (a + b + c)/3\n",
    "G = ((A[0] + B[0] + C[0]) / 3.0, (A[1] + B[1] + C[1]) / 3.0)\n",
    "\n",
    "# --- Gráfica ---\n",
    "plt.figure(figsize=(6, 6))\n",
    "\n",
    "# Lados del triángulo\n",
    "plt.plot([A[0], B[0], C[0], A[0]], [A[1], B[1], C[1], A[1]], '-', label=\"Lados del triángulo\")\n",
    "\n",
    "# Medianas (A->M_BC y B->M_AC)\n",
    "plt.plot([A[0], M_BC[0]], [A[1], M_BC[1]], '--', label=\"Medianas\")\n",
    "plt.plot([B[0], M_AC[0]], [B[1], M_AC[1]], '--')\n",
    "\n",
    "# Puntos\n",
    "plt.scatter([A[0], B[0], C[0], M_BC[0], M_AC[0], G[0]],\n",
    "            [A[1], B[1], C[1], M_BC[1], M_AC[1], G[1]], zorder=5)\n",
    "\n",
    "# Etiquetas de puntos\n",
    "plt.text(A[0]-0.1, A[1]-0.15, r\"$A$\")\n",
    "plt.text(B[0]+0.05, B[1]-0.1, r\"$B$\")\n",
    "plt.text(C[0]-0.1, C[1]+0.1, r\"$C$\")\n",
    "plt.text(M_BC[0]+0.05, M_BC[1], r\"$M_{BC}$\")\n",
    "plt.text(M_AC[0]-0.45, M_AC[1], r\"$M_{AC}$\")\n",
    "plt.text(G[0]+0.05, G[1]-0.15, r\"$G$\")\n",
    "\n",
    "# Ajustes de la figura\n",
    "plt.gca().set_aspect('equal', adjustable='box')\n",
    "plt.title(r\"Triángulo $ABC$ con medianas y centroide $G$\")\n",
    "plt.grid(True, linestyle=':', linewidth=0.8)\n",
    "plt.legend()\n",
    "plt.tight_layout()\n",
    "plt.show()\n"
   ]
  },
  {
   "cell_type": "markdown",
   "id": "4a251226-a19d-4d3f-b9b0-077588516539",
   "metadata": {},
   "source": [
    "En la figura se representa un triángulo $ABC$ definido por tres vértices con coordenadas de ejemplo.  \n",
    "Se han trazado dos de sus **medianas**:  \n",
    "- La mediana desde $A$ hacia el punto medio $M_{BC}$ del lado $BC$.  \n",
    "- La mediana desde $B$ hacia el punto medio $M_{AC}$ del lado $AC$.  \n",
    "\n",
    "El **centroide** $G$ se calculó como el promedio de los vectores posición de los vértices:\n",
    "\n",
    "$\n",
    "\\mathbf{g} = \\frac{1}{3} (\\mathbf{a} + \\mathbf{b} + \\mathbf{c})\n",
    "$\n",
    "\n",
    "Este punto $G$ divide cada mediana en la razón $2:1$, contada desde el vértice, y constituye la intersección de todas las medianas del triángulo.\n"
   ]
  },
  {
   "cell_type": "markdown",
   "id": "02698d56-a9ab-4dad-9434-0ecd3ef993c7",
   "metadata": {},
   "source": [
    "## Sección 1.2.7 problema 6\n",
    "\n",
    "Considere los siguientes vectores:\n",
    "\n",
    "$\n",
    "\\mathbf{a} = \\hat{e}_1 + 2\\hat{e}_2 + 3\\hat{e}_3, \n",
    "\\quad\n",
    "\\mathbf{b} = 4\\hat{e}_1 + 5\\hat{e}_2 + 6\\hat{e}_3, \n",
    "\\quad\n",
    "\\mathbf{c} = 3\\hat{e}_1 + 2\\hat{e}_2 + \\hat{e}_3, \n",
    "\\quad\n",
    "\\mathbf{d} = 6\\hat{e}_1 + 5\\hat{e}_2 + 4\\hat{e}_3.\n",
    "$\n",
    "\n",
    "Encuentre:\n",
    "\n",
    "(a) Las siguientes sumas:  \n",
    "$\n",
    "\\mathbf{a} + \\mathbf{b} + \\mathbf{c} + \\mathbf{d}, \n",
    "\\quad \n",
    "\\mathbf{a} + \\mathbf{b} - \\mathbf{c} - \\mathbf{d}, \n",
    "\\quad \n",
    "\\mathbf{a} - \\mathbf{b} + \\mathbf{c} - \\mathbf{d}, \n",
    "\\quad \n",
    "-\\mathbf{a} + \\mathbf{b} - \\mathbf{c} + \\mathbf{d}.\n",
    "$\n",
    "\n",
    "(b) El ángulo entre los vectores $\\mathbf{a}$, $\\mathbf{b}$, $\\mathbf{c}$, $\\mathbf{d}$ y los vectores base $\\hat{e}_1, \\hat{e}_2, \\hat{e}_3$.\n",
    "\n",
    "(c) La magnitud de los vectores $\\mathbf{a}$, $\\mathbf{b}$, $\\mathbf{c}$, $\\mathbf{d}$.\n",
    "\n",
    "(d) El ángulo entre $\\mathbf{a}$ y $\\mathbf{b}$ y entre $\\mathbf{c}$ y $\\mathbf{d}$.\n",
    "\n",
    "(e) La proyección de $\\mathbf{a}$ sobre $\\mathbf{b}$.\n",
    "\n",
    "(f) Si los vectores $\\mathbf{a}$, $\\mathbf{b}$, $\\mathbf{c}$, $\\mathbf{d}$ son coplanarios.\n",
    "\n",
    "(g) Encuentre $(\\mathbf{a} + \\mathbf{b}) \\cdot (\\mathbf{c} + \\mathbf{d})$.\n",
    "\n",
    "(h) Los productos $\\mathbf{a} \\times \\mathbf{b}$, $\\mathbf{b} \\times \\mathbf{c}$, $\\mathbf{c} \\times \\mathbf{d}$ y los ángulos que estos forman con $\\mathbf{d}$.\n",
    "\n",
    "(i) $\\mathbf{c} \\cdot (\\mathbf{a} \\times \\mathbf{b})$.\n",
    "## Desarrollo"
   ]
  },
  {
   "cell_type": "code",
   "execution_count": 2,
   "id": "871f764f-23de-43ce-bef3-280ce28147f1",
   "metadata": {},
   "outputs": [],
   "source": [
    "import sympy as sp\n",
    "sp.init_printing()\n",
    "\n",
    "# Se definen vectores en la base canónica de R^3\n",
    "a = sp.Matrix([1, 2, 3])\n",
    "b = sp.Matrix([4, 5, 6])\n",
    "c = sp.Matrix([3, 2, 1])\n",
    "d = sp.Matrix([6, 5, 4])\n",
    "\n",
    "e1 = sp.Matrix([1,0,0])\n",
    "e2 = sp.Matrix([0,1,0])\n",
    "e3 = sp.Matrix([0,0,1])\n",
    "\n",
    "# Funciones auxiliares\n",
    "def norma(v):      # Se calcula la norma euclídea\n",
    "    return sp.sqrt(v.dot(v))\n",
    "\n",
    "def angulo(u,v):   # Se calcula el ángulo (en radianes) entre u y v\n",
    "    return sp.acos(sp.simplify(u.dot(v) / (norma(u)*norma(v))))\n",
    "\n",
    "def proy_u_sobre_v(u, v):  # Proyección de u sobre v\n",
    "    return (u.dot(v) / v.dot(v)) * v\n"
   ]
  },
  {
   "cell_type": "markdown",
   "id": "062a29cf-d7ba-4322-b937-310586ec3b56",
   "metadata": {},
   "source": [
    "### (a) Sumas pedidas\n",
    "\n",
    "Se calculan las combinaciones lineales:\n",
    "\n",
    "$\n",
    "\\mathbf{a}+\\mathbf{b}+\\mathbf{c}+\\mathbf{d}, \\quad\n",
    "\\mathbf{a}+\\mathbf{b}-\\mathbf{c}-\\mathbf{d}, \\quad\n",
    "\\mathbf{a}-\\mathbf{b}+\\mathbf{c}-\\mathbf{d}, \\quad\n",
    "-\\mathbf{a}+\\mathbf{b}-\\mathbf{c}+\\mathbf{d}.\n",
    "$\n"
   ]
  },
  {
   "cell_type": "code",
   "execution_count": 6,
   "id": "2cb5633f-ba6f-408b-b08d-17f49f53e23b",
   "metadata": {},
   "outputs": [
    {
     "data": {
      "text/latex": [
       "$\\displaystyle \\left( \\left[\\begin{matrix}14\\\\14\\\\14\\end{matrix}\\right], \\  \\left[\\begin{matrix}-4\\\\0\\\\4\\end{matrix}\\right], \\  \\left[\\begin{matrix}-6\\\\-6\\\\-6\\end{matrix}\\right], \\  \\left[\\begin{matrix}6\\\\6\\\\6\\end{matrix}\\right]\\right)$"
      ],
      "text/plain": [
       "⎛⎡14⎤  ⎡-4⎤  ⎡-6⎤  ⎡6⎤⎞\n",
       "⎜⎢  ⎥  ⎢  ⎥  ⎢  ⎥  ⎢ ⎥⎟\n",
       "⎜⎢14⎥, ⎢0 ⎥, ⎢-6⎥, ⎢6⎥⎟\n",
       "⎜⎢  ⎥  ⎢  ⎥  ⎢  ⎥  ⎢ ⎥⎟\n",
       "⎝⎣14⎦  ⎣4 ⎦  ⎣-6⎦  ⎣6⎦⎠"
      ]
     },
     "execution_count": 6,
     "metadata": {},
     "output_type": "execute_result"
    }
   ],
   "source": [
    "S1 = a + b + c + d\n",
    "S2 = a + b - c - d\n",
    "S3 = a - b + c - d\n",
    "S4 = -a + b - c + d\n",
    "\n",
    "S1, S2, S3, S4\n"
   ]
  },
  {
   "cell_type": "markdown",
   "id": "4d578b89-f77a-4abd-a32d-b4f349a16b82",
   "metadata": {},
   "source": [
    "\n",
    "### (b) Ángulo entre $\\mathbf{a},\\mathbf{b},\\mathbf{c},\\mathbf{d}$ y los vectores base $\\hat e_1,\\hat e_2,\\hat e_3$\n",
    "\n",
    "Para cada par $(\\mathbf{v},\\hat e_i)$ se usa\n",
    "\n",
    "$\n",
    "\\theta(\\mathbf{v},\\hat e_i)=\\arccos\\!\\left(\\dfrac{\\mathbf{v}\\cdot\\hat e_i}{\\|\\mathbf{v}\\|\\,\\|\\hat e_i\\|}\\right)\n",
    "= \\arccos\\!\\left(\\dfrac{v_i}{\\|\\mathbf{v}\\|}\\right).\n",
    "$\n",
    "\n",
    "Se reportan radianes y grados.\n"
   ]
  },
  {
   "cell_type": "code",
   "execution_count": 7,
   "id": "72795b6e-b7a2-48e4-be12-6145c9c2bf93",
   "metadata": {},
   "outputs": [
    {
     "data": {
      "text/plain": [
       "({'a': {'e1': acos(sqrt(14)/14),\n",
       "   'e2': acos(sqrt(14)/7),\n",
       "   'e3': acos(3*sqrt(14)/14)},\n",
       "  'b': {'e1': acos(4*sqrt(77)/77),\n",
       "   'e2': acos(5*sqrt(77)/77),\n",
       "   'e3': acos(6*sqrt(77)/77)},\n",
       "  'c': {'e1': acos(3*sqrt(14)/14),\n",
       "   'e2': acos(sqrt(14)/7),\n",
       "   'e3': acos(sqrt(14)/14)},\n",
       "  'd': {'e1': acos(6*sqrt(77)/77),\n",
       "   'e2': acos(5*sqrt(77)/77),\n",
       "   'e3': acos(4*sqrt(77)/77)}},\n",
       " {'a': {'e1': 74.4986404330630,\n",
       "   'e2': 57.6884667625761,\n",
       "   'e3': 36.6992252004899},\n",
       "  'b': {'e1': 62.8808572266189,\n",
       "   'e2': 55.2635187187420,\n",
       "   'e3': 46.8615623803289},\n",
       "  'c': {'e1': 36.6992252004899,\n",
       "   'e2': 57.6884667625761,\n",
       "   'e3': 74.4986404330630},\n",
       "  'd': {'e1': 46.8615623803289,\n",
       "   'e2': 55.2635187187420,\n",
       "   'e3': 62.8808572266189}})"
      ]
     },
     "execution_count": 7,
     "metadata": {},
     "output_type": "execute_result"
    }
   ],
   "source": [
    "vectores = {'a':a, 'b':b, 'c':c, 'd':d}\n",
    "bases = {'e1':e1, 'e2':e2, 'e3':e3}\n",
    "\n",
    "ang_rad = {}\n",
    "ang_deg = {}\n",
    "\n",
    "for name_v, v in vectores.items():\n",
    "    ang_rad[name_v] = {}\n",
    "    ang_deg[name_v] = {}\n",
    "    for name_e, e in bases.items():\n",
    "        th = sp.simplify(angulo(v,e))\n",
    "        ang_rad[name_v][name_e] = th\n",
    "        ang_deg[name_v][name_e] = sp.N(sp.deg(th))\n",
    "\n",
    "ang_rad, ang_deg\n"
   ]
  },
  {
   "cell_type": "markdown",
   "id": "3bd88975-038d-4b25-857d-f654e497c6af",
   "metadata": {},
   "source": [
    "### (c) Magnitudes de $\\mathbf{a},\\mathbf{b},\\mathbf{c},\\mathbf{d}$\n",
    "\n",
    "Se emplea $\\|\\mathbf{v}\\|=\\sqrt{\\mathbf{v}\\cdot\\mathbf{v}}$.\n"
   ]
  },
  {
   "cell_type": "code",
   "execution_count": 8,
   "id": "3eb4af0a-bdf0-4cad-ac6a-d79ac62b06c5",
   "metadata": {},
   "outputs": [
    {
     "data": {
      "image/png": "[encoded data removed]",
      "text/latex": [
       "$\\displaystyle \\left( \\sqrt{14}, \\  \\sqrt{77}, \\  \\sqrt{14}, \\  \\sqrt{77}\\right)$"
      ],
      "text/plain": [
       "(√14, √77, √14, √77)"
      ]
     },
     "execution_count": 8,
     "metadata": {},
     "output_type": "execute_result"
    }
   ],
   "source": [
    "# %%\n",
    "na, nb, nc, nd = map(norma, (a,b,c,d))\n",
    "na, nb, nc, nd\n"
   ]
  },
  {
   "cell_type": "markdown",
   "id": "90e788a8-7e56-468f-8194-3ab5ce31eba6",
   "metadata": {},
   "source": [
    "\n",
    "### (d) Ángulo entre $\\mathbf{a}$ y $\\mathbf{b}$, y entre $\\mathbf{c}$ y $\\mathbf{d}$\n",
    "\n",
    "Se usa\n",
    "\n",
    "$\n",
    "\\cos\\theta=\\dfrac{\\mathbf{u}\\cdot\\mathbf{v}}{\\|\\mathbf{u}\\|\\,\\|\\mathbf{v}\\|}.\n",
    "$\n"
   ]
  },
  {
   "cell_type": "code",
   "execution_count": 9,
   "id": "b75790a1-1f91-4ff1-9d8e-0377625bc5dd",
   "metadata": {},
   "outputs": [
    {
     "data": {
      "image/png": "[encoded data removed]",
      "text/latex": [
       "$\\displaystyle \\left( \\operatorname{acos}{\\left(\\frac{16 \\sqrt{22}}{77} \\right)}, \\  12.9331544918991, \\  \\operatorname{acos}{\\left(\\frac{16 \\sqrt{22}}{77} \\right)}, \\  12.9331544918991\\right)$"
      ],
      "text/plain": [
       "⎛    ⎛16⋅√22⎞                        ⎛16⋅√22⎞                  ⎞\n",
       "⎜acos⎜──────⎟, 12.9331544918991, acos⎜──────⎟, 12.9331544918991⎟\n",
       "⎝    ⎝  77  ⎠                        ⎝  77  ⎠                  ⎠"
      ]
     },
     "execution_count": 9,
     "metadata": {},
     "output_type": "execute_result"
    }
   ],
   "source": [
    "theta_ab = angulo(a,b)\n",
    "theta_cd = angulo(c,d)\n",
    "\n",
    "theta_ab, sp.N(sp.deg(theta_ab)), theta_cd, sp.N(sp.deg(theta_cd))\n"
   ]
  },
  {
   "cell_type": "markdown",
   "id": "0940b20e-fff0-483e-bc98-44f38b8517a5",
   "metadata": {},
   "source": [
    "\n",
    "### (e) Proyección de $\\mathbf{a}$ sobre $\\mathbf{b}$\n",
    "\n",
    "Se aplica\n",
    "\n",
    "$\n",
    "\\operatorname{proj}_{\\mathbf{b}}(\\mathbf{a}) = \\dfrac{\\mathbf{a}\\cdot\\mathbf{b}}{\\mathbf{b}\\cdot\\mathbf{b}}\\;\\mathbf{b}.\n",
    "$\n"
   ]
  },
  {
   "cell_type": "code",
   "execution_count": 10,
   "id": "7574dc0c-b7a8-4330-a2d1-656941b994d9",
   "metadata": {},
   "outputs": [
    {
     "data": {
      "text/latex": [
       "$\\displaystyle \\left[\\begin{matrix}\\frac{128}{77}\\\\\\frac{160}{77}\\\\\\frac{192}{77}\\end{matrix}\\right]$"
      ],
      "text/plain": [
       "⎡128⎤\n",
       "⎢───⎥\n",
       "⎢ 77⎥\n",
       "⎢   ⎥\n",
       "⎢160⎥\n",
       "⎢───⎥\n",
       "⎢ 77⎥\n",
       "⎢   ⎥\n",
       "⎢192⎥\n",
       "⎢───⎥\n",
       "⎣ 77⎦"
      ]
     },
     "execution_count": 10,
     "metadata": {},
     "output_type": "execute_result"
    }
   ],
   "source": [
    "proj_a_sobre_b = sp.simplify(proy_u_sobre_v(a,b))\n",
    "proj_a_sobre_b\n"
   ]
  },
  {
   "cell_type": "markdown",
   "id": "09ab2361-9933-46c2-a446-a85f0fc6d07b",
   "metadata": {},
   "source": [
    "\n",
    "### (f) Coplanaridad de $\\mathbf{a},\\mathbf{b},\\mathbf{c},\\mathbf{d}$\n",
    "\n",
    "Cuatro vectores en $\\mathbb{R}^3$ son coplanarios (a través del origen) si el subespacio que generan tiene dimensión $\\le 2$.\n",
    "Se verifica con el **rango** de la matriz cuyas columnas son los vectores. Si $\\operatorname{rank}\\le 2$, son coplanarios.\n",
    "\n",
    "$\n",
    "A = \\begin{bmatrix} \\mathbf{a} & \\mathbf{b} & \\mathbf{c} & \\mathbf{d} \\end{bmatrix}.\n",
    "$\n"
   ]
  },
  {
   "cell_type": "code",
   "execution_count": 11,
   "id": "0498a2f3-5c8b-4dbb-a189-dde51125e8d8",
   "metadata": {},
   "outputs": [
    {
     "data": {
      "image/png": "[encoded data removed]",
      "text/latex": [
       "$\\displaystyle 2$"
      ],
      "text/plain": [
       "2"
      ]
     },
     "execution_count": 11,
     "metadata": {},
     "output_type": "execute_result"
    }
   ],
   "source": [
    "A = sp.Matrix.hstack(a,b,c,d)\n",
    "rankA = A.rank()\n",
    "rankA\n"
   ]
  },
  {
   "cell_type": "markdown",
   "id": "a9393e4e-6923-411f-a3ab-3dc0a9fff56d",
   "metadata": {},
   "source": [
    "### (g) Cálculo de $(\\mathbf{a}+\\mathbf{b})\\cdot(\\mathbf{c}+\\mathbf{d})$\n",
    "\n",
    "Se expande con la bilinealidad del producto punto:\n",
    "\n",
    "$\n",
    "(\\mathbf{a}+\\mathbf{b})\\cdot(\\mathbf{c}+\\mathbf{d})\n",
    "= \\mathbf{a}\\cdot\\mathbf{c} + \\mathbf{a}\\cdot\\mathbf{d} + \\mathbf{b}\\cdot\\mathbf{c} + \\mathbf{b}\\cdot\\mathbf{d}.\n",
    "$\n"
   ]
  },
  {
   "cell_type": "code",
   "execution_count": 12,
   "id": "1f4a25d7-99d7-401a-8786-115ae20dd3a7",
   "metadata": {},
   "outputs": [
    {
     "data": {
      "image/png": "[encoded data removed]",
      "text/latex": [
       "$\\displaystyle 139$"
      ],
      "text/plain": [
       "139"
      ]
     },
     "execution_count": 12,
     "metadata": {},
     "output_type": "execute_result"
    }
   ],
   "source": [
    "dot_val = (a+b).dot(c+d)\n",
    "dot_val\n"
   ]
  },
  {
   "cell_type": "markdown",
   "id": "219cf5dd-2bc3-4110-900a-f76bb600e6ae",
   "metadata": {},
   "source": [
    "### (h) Productos cruz $\\mathbf{a}\\times\\mathbf{b}$, $\\mathbf{b}\\times\\mathbf{c}$, $\\mathbf{c}\\times\\mathbf{d}$ y ángulos con $\\mathbf{d}$\n",
    "\n",
    "Para cada par se calcula $\\mathbf{u}\\times\\mathbf{v}$ y el ángulo con $\\mathbf{d}$ mediante\n",
    "\n",
    "$\n",
    "\\theta(\\mathbf{u}\\times\\mathbf{v},\\mathbf{d})\n",
    "= \\arccos\\!\\left(\\dfrac{(\\mathbf{u}\\times\\mathbf{v})\\cdot\\mathbf{d}}{\\|\\mathbf{u}\\times\\mathbf{v}\\|\\,\\|\\mathbf{d}\\|}\\right).\n",
    "$\n"
   ]
  },
  {
   "cell_type": "code",
   "execution_count": 13,
   "id": "4f37816b-e6df-4bf5-aad1-9fbd8f43e3eb",
   "metadata": {},
   "outputs": [
    {
     "data": {
      "text/latex": [
       "$\\displaystyle \\left( \\left[\\begin{matrix}-3\\\\6\\\\-3\\end{matrix}\\right], \\  \\left[\\begin{matrix}-7\\\\14\\\\-7\\end{matrix}\\right], \\  \\left[\\begin{matrix}3\\\\-6\\\\3\\end{matrix}\\right], \\  90.0, \\  90.0, \\  90.0\\right)$"
      ],
      "text/plain": [
       "⎛⎡-3⎤  ⎡-7⎤  ⎡3 ⎤                  ⎞\n",
       "⎜⎢  ⎥  ⎢  ⎥  ⎢  ⎥                  ⎟\n",
       "⎜⎢6 ⎥, ⎢14⎥, ⎢-6⎥, 90.0, 90.0, 90.0⎟\n",
       "⎜⎢  ⎥  ⎢  ⎥  ⎢  ⎥                  ⎟\n",
       "⎝⎣-3⎦  ⎣-7⎦  ⎣3 ⎦                  ⎠"
      ]
     },
     "execution_count": 13,
     "metadata": {},
     "output_type": "execute_result"
    }
   ],
   "source": [
    "axb = a.cross(b)\n",
    "bxc = b.cross(c)\n",
    "cxd = c.cross(d)\n",
    "\n",
    "ang_axb_d = angulo(axb, d)\n",
    "ang_bxc_d = angulo(bxc, d)\n",
    "ang_cxd_d = angulo(cxd, d)\n",
    "\n",
    "axb, bxc, cxd, sp.N(sp.deg(ang_axb_d)), sp.N(sp.deg(ang_bxc_d)), sp.N(sp.deg(ang_cxd_d))\n"
   ]
  },
  {
   "cell_type": "markdown",
   "id": "5a8e1efc-ab14-4fb1-a0d0-b625c5d202ea",
   "metadata": {},
   "source": [
    "### (i) Triple escalar $\\mathbf{c}\\cdot(\\mathbf{a}\\times\\mathbf{b})$\n",
    "\n",
    "Se usa la identidad de **volumen orientado**:\n",
    "\n",
    "$\n",
    "[\\mathbf{c},\\mathbf{a},\\mathbf{b}] \\;=\\; \\mathbf{c}\\cdot(\\mathbf{a}\\times\\mathbf{b})\n",
    "\\;=\\; \\det\\big[\\mathbf{c}\\ \\mathbf{a}\\ \\mathbf{b}\\big].\n",
    "$\n"
   ]
  },
  {
   "cell_type": "code",
   "execution_count": 14,
   "id": "68380074-4b12-432a-b9db-ea468c7c8969",
   "metadata": {},
   "outputs": [
    {
     "data": {
      "image/png": "[encoded data removed]",
      "text/latex": [
       "$\\displaystyle 0$"
      ],
      "text/plain": [
       "0"
      ]
     },
     "execution_count": 14,
     "metadata": {},
     "output_type": "execute_result"
    }
   ],
   "source": [
    "triple = c.dot(a.cross(b))\n",
    "triple\n"
   ]
  },
  {
   "cell_type": "markdown",
   "id": "a6623bae-de0c-4f08-b2a7-cf2ac3b98f1a",
   "metadata": {},
   "source": [
    "# Sección 1.5.7 ejercicio 13\n",
    "\n",
    "Dado el campo de fuerza\n",
    "$\n",
    "\\mathbf F(x,y)= -\\frac{y}{x^{2}+y^{2}}\\,\\hat{\\mathbf i}\n",
    "                +\\frac{x}{x^{2}+y^{2}}\\,\\hat{\\mathbf j}\n",
    "$\n",
    "\n",
    "Calcule el trabajo hecho en contra de este campo al moverse sobre la circunferencia de radio $1$ (circunferencia unidad) en el plano $x\\text{-}y$:\n",
    "desde $\\theta=0$ hasta $\\theta=\\pi$ en sentido antihorario;\n",
    "desde $\\theta=0$ hasta $\\theta=-\\pi$ en sentido horario.\n",
    "\n",
    "## Desarrollo"
   ]
  },
  {
   "cell_type": "code",
   "execution_count": 3,
   "id": "89283000-20e6-471a-9c47-c6f4c5953c25",
   "metadata": {},
   "outputs": [],
   "source": [
    "theta = sp.symbols('theta', real=True)          # Se definió el parámetro angular.\n",
    "a, b = sp.symbols('a b', real=True)             # Se definieron ángulos genéricos (límite inferior y superior).\n",
    "\n",
    "# Componentes del campo en (x,y)\n",
    "x, y = sp.symbols('x y', real=True)\n",
    "Fx = -y/(x**2 + y**2)\n",
    "Fy =  x/(x**2 + y**2)\n",
    "F = sp.Matrix([Fx, Fy])\n"
   ]
  },
  {
   "cell_type": "markdown",
   "id": "70ba15a5-ea3d-4473-8fa3-8d96d5da9ae9",
   "metadata": {},
   "source": [
    "### Parametrización del círculo y forma lineal $\\,\\mathbf F\\cdot d\\mathbf r$\n",
    "Se parametrizó el círculo unidad por $\\mathbf r(\\theta)=(\\cos\\theta,\\sin\\theta)$ y se restringió el campo a la curva.\n",
    "Se verificó que el integrando se simplifica a $1$."
   ]
  },
  {
   "cell_type": "code",
   "execution_count": 4,
   "id": "aa3862e6-30cb-48c8-8e4a-c914a8410b6c",
   "metadata": {},
   "outputs": [
    {
     "data": {
      "image/png": "[encoded data removed]",
      "text/latex": [
       "$\\displaystyle 1$"
      ],
      "text/plain": [
       "1"
      ]
     },
     "execution_count": 4,
     "metadata": {},
     "output_type": "execute_result"
    }
   ],
   "source": [
    "x_t = sp.cos(theta)\n",
    "y_t = sp.sin(theta)\n",
    "r = sp.Matrix([x_t, y_t])\n",
    "\n",
    "# Velocidad tangencial dr/dθ\n",
    "dr_dtheta = r.diff(theta)   # = (-sinθ, cosθ)\n",
    "\n",
    "# Campo restringido a la curva (x^2+y^2=1)\n",
    "F_on_curve = F.subs({x: x_t, y: y_t})  # = (-sinθ, cosθ)\n",
    "\n",
    "# Producto punto F·dr/dθ\n",
    "integrand = sp.simplify(F_on_curve.dot(dr_dtheta))\n",
    "integrand"
   ]
  },
  {
   "cell_type": "markdown",
   "id": "46d4c90d-c09a-42e5-8b79-d9f4490a0fec",
   "metadata": {},
   "source": [
    "### Integración general\n",
    "Se integró el valor del integrando para límites angulares genéricos $[a,b]$.\n",
    "$$W_{\\text{campo}}=\\int_a^b 1\\,d\\theta=b-a,\\qquad W_{\\text{contra}}=-(b-a)=a-b$$"
   ]
  },
  {
   "cell_type": "code",
   "execution_count": 5,
   "id": "1d0841d1-b28e-407f-97f4-1eed1c303339",
   "metadata": {},
   "outputs": [
    {
     "data": {
      "image/png": "[encoded data removed]",
      "text/latex": [
       "$\\displaystyle \\left( - a + b, \\  a - b\\right)$"
      ],
      "text/plain": [
       "(-a + b, a - b)"
      ]
     },
     "execution_count": 5,
     "metadata": {},
     "output_type": "execute_result"
    }
   ],
   "source": [
    "W_campo_ab = sp.integrate(integrand, (theta, a, b))  # = b - a\n",
    "W_contra_ab = -W_campo_ab                            # = a - b\n",
    "sp.simplify(W_campo_ab), sp.simplify(W_contra_ab)"
   ]
  },
  {
   "cell_type": "code",
   "execution_count": 7,
   "id": "53d1da48-36d1-43b6-b9d2-796f035e22f8",
   "metadata": {},
   "outputs": [
    {
     "name": "stdout",
     "output_type": "stream",
     "text": [
      "(a) 0 → π (antihorario)\n",
      "   Trabajo DEL campo   = pi\n",
      "   Trabajo EN CONTRA   = -pi\n",
      "\n",
      "(b) 0 → -π (horario)\n",
      "   Trabajo DEL campo   = -pi\n",
      "   Trabajo EN CONTRA   = pi\n"
     ]
    }
   ],
   "source": [
    "# Evaluación de los dos recorridos\n",
    "pi = sp.pi\n",
    "\n",
    "# (a) 0 → π (antihorario)\n",
    "W_campo_0_pi   = W_campo_ab.subs({a: 0, b: pi})\n",
    "W_contra_0_pi  = -W_campo_0_pi\n",
    "\n",
    "# (b) 0 → -π (horario)\n",
    "W_campo_0_mpi  = W_campo_ab.subs({a: 0, b: -pi})\n",
    "W_contra_0_mpi = -W_campo_0_mpi\n",
    "\n",
    "print('(a) 0 → π (antihorario)')\n",
    "print('   Trabajo DEL campo   =', W_campo_0_pi)    # π\n",
    "print('   Trabajo EN CONTRA   =', W_contra_0_pi)   # -π\n",
    "\n",
    "print('\\n(b) 0 → -π (horario)')\n",
    "print('   Trabajo DEL campo   =', W_campo_0_mpi)   # -π\n",
    "print('   Trabajo EN CONTRA   =', W_contra_0_mpi)  # +π"
   ]
  },
  {
   "cell_type": "code",
   "execution_count": null,
   "id": "7523f196-24ea-4e1e-8be1-f504e4012b63",
   "metadata": {},
   "outputs": [],
   "source": []
  }
 ],
 "metadata": {
  "kernelspec": {
   "display_name": "Python 3",
   "language": "python",
   "name": "python3"
  },
  "language_info": {
   "codemirror_mode": {
    "name": "ipython",
    "version": 3
   },
   "file_extension": ".py",
   "mimetype": "text/x-python",
   "name": "python",
   "nbconvert_exporter": "python",
   "pygments_lexer": "ipython3",
   "version": "3.8.8"
  }
 },
 "nbformat": 4,
 "nbformat_minor": 5
}
